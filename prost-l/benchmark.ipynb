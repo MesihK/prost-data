{
 "cells": [
  {
   "cell_type": "code",
   "execution_count": 1,
   "id": "e3c711fb-a208-4116-972b-5fc953afe625",
   "metadata": {},
   "outputs": [
    {
     "data": {
      "text/plain": [
       "True"
      ]
     },
     "execution_count": 1,
     "metadata": {},
     "output_type": "execute_result"
    }
   ],
   "source": [
    "import torch\n",
    "torch.cuda.is_available()"
   ]
  },
  {
   "cell_type": "code",
   "execution_count": 4,
   "id": "4c5346e5-8d74-4979-a7d0-d5e4fb51314e",
   "metadata": {},
   "outputs": [],
   "source": [
    "import numpy as np\n",
    "from sklearn.metrics import roc_auc_score, roc_curve, average_precision_score\n",
    "from sklearn.metrics import precision_recall_curve, auc\n",
    "from scipy.spatial import distance\n",
    "\n",
    "def predict(l,emb):\n",
    "    r = []\n",
    "    p = []\n",
    "    for p1,p2,real in l:\n",
    "        dist = abs(emb[p1]-emb[p2]).sum()/2\n",
    "        r.append(real)\n",
    "        p.append(-dist)\n",
    "    return p,r\n",
    "\n",
    "def predictAll(dbname,emb):\n",
    "    if dbname == 'pfam': l1 = phoml; l2 = pnonl\n",
    "    elif dbname == 'gene3d': l1 = ghoml; l2 = gnonl\n",
    "    else: l1 = shoml; l2 = snonl\n",
    "    ph,rh = predict(l1,emb)\n",
    "    pn,rn = predict(l2,emb)\n",
    "    p = ph+pn\n",
    "    r = rh+rn\n",
    "    return p,r\n",
    "\n",
    "def aucNth(y, yp, N):\n",
    "    assert len(y) == len(yp)\n",
    "    assert len(y) > 1\n",
    "    fpr, tpr, thresholds = roc_curve(y, yp)\n",
    "    negatives = y.count(0)\n",
    "    assert N < negatives\n",
    "    perc = N / float(negatives)\n",
    "    fpr1k = []\n",
    "    tpr1k = []\n",
    "    i = 0\n",
    "    while i < len(fpr):\n",
    "        if fpr[i] > perc:\n",
    "            break\n",
    "        fpr1k.append(fpr[i])\n",
    "        tpr1k.append(tpr[i])\n",
    "        i+=1\n",
    "    assert len(fpr1k) > 1\n",
    "    aucScore = auc(fpr1k, tpr1k) / perc\n",
    "    return aucScore\n",
    "\n",
    "def score(dbname,emb,aucN=1000):\n",
    "    p,r = predictAll(dbname,emb)\n",
    "    print(len(p),len(r),len(phoml),len(pnonl))\n",
    "    print(p[:10])\n",
    "    fpr, tpr, threshold = roc_curve(r, p)\n",
    "    aucp = aucNth(r, p, aucN)\n",
    "    aucScore = roc_auc_score(r,p)\n",
    "    print(dbname,aucScore,aucp)\n",
    "    return fpr,tpr,aucScore,aucp\n"
   ]
  },
  {
   "cell_type": "code",
   "execution_count": 2,
   "id": "4d179b2d-7d02-4ca8-a876-b9763d46fcaa",
   "metadata": {},
   "outputs": [
    {
     "name": "stdout",
     "output_type": "stream",
     "text": [
      "Loading...\n"
     ]
    }
   ],
   "source": [
    "from tools import read_benchmark_pairs, embed_seq, read_fasta, dump_pickle, load_pickle\n",
    "import os\n",
    "\n",
    "phom = '../benchmark/Methods_benchmarking_pairs/pfam_hom-pairs_max50.txt'\n",
    "pnon = '../benchmark/Methods_benchmarking_pairs/pfam_nonhom-pairs_max50.txt'\n",
    "ghom = '../benchmark/Methods_benchmarking_pairs/gene3d_hom-pairs_max50.txt'\n",
    "gnon = '../benchmark/Methods_benchmarking_pairs/gene3d_nonhom-pairs_max50.txt'\n",
    "shom = '../benchmark/Methods_benchmarking_pairs/supfam_hom-pairs_max50.txt'\n",
    "snon = '../benchmark/Methods_benchmarking_pairs/supfam_nonhom-pairs_max50.txt'\n",
    "\n",
    "phoml = read_benchmark_pairs(phom,1)\n",
    "pnonl = read_benchmark_pairs(pnon,0)\n",
    "ghoml = read_benchmark_pairs(ghom,1)\n",
    "gnonl = read_benchmark_pairs(gnon,0)\n",
    "shoml = read_benchmark_pairs(shom,1)\n",
    "snonl = read_benchmark_pairs(snon,0)\n",
    "\n",
    "max50seq = read_fasta('../benchmark/max50.fa')\n",
    "\n",
    "if os.path.exists('max50emb.pkl') and os.path.exists('max50log.pkl'):\n",
    "    print('Loading...')\n",
    "    max50emb = load_pickle('max50emb.pkl')\n",
    "    max50log = load_pickle('max50log.pkl')\n",
    "else:\n",
    "    max50emb,max50log = embed_seq(max50seq)\n",
    "    print('Dumping...')\n",
    "    dump_pickle('max50emb.pkl',max50emb)\n",
    "    dump_pickle('max50log.pkl',max50log)"
   ]
  },
  {
   "cell_type": "code",
   "execution_count": 23,
   "id": "3c1a86bb-6e51-40f3-9407-3ababb97ad4b",
   "metadata": {},
   "outputs": [
    {
     "name": "stdout",
     "output_type": "stream",
     "text": [
      "pfam 0.9933850478143877 0.9590841754051477\n",
      "supfam 0.9902220887085216 0.9662332078462452\n",
      "gene3d 0.9894486885039282 0.9512830622347949\n"
     ]
    }
   ],
   "source": [
    "fpr,tpr,aucScore,aucp = score('pfam',max50emb)\n",
    "dump_pickle('pfam.res.pkl',(fpr,tpr,aucScore,aucp))\n",
    "\n",
    "fpr,tpr,aucScore,aucp = score('supfam',max50emb)\n",
    "dump_pickle('supfam.res.pkl',(fpr,tpr,aucScore,aucp))\n",
    "\n",
    "fpr,tpr,aucScore,aucp = score('gene3d',max50emb)\n",
    "dump_pickle('gene3d.res.pkl',(fpr,tpr,aucScore,aucp))"
   ]
  },
  {
   "cell_type": "code",
   "execution_count": 19,
   "id": "a25b69c0-f823-4d04-9e12-9c15127f315c",
   "metadata": {},
   "outputs": [
    {
     "name": "stdout",
     "output_type": "stream",
     "text": [
      "Loading...\n"
     ]
    }
   ],
   "source": [
    "from tools import read_benchmark_pairs, embed_seq, read_fasta, dump_pickle, load_pickle\n",
    "import os\n",
    "\n",
    "phom = '../benchmark/Methods_benchmarking_pairs/pfam_hom-pairs_nomax50.txt'\n",
    "pnon = '../benchmark/Methods_benchmarking_pairs/pfam_nonhom-pairs_nomax50.txt'\n",
    "ghom = '../benchmark/Methods_benchmarking_pairs/gene3d_hom-pairs_nomax50.txt'\n",
    "gnon = '../benchmark/Methods_benchmarking_pairs/gene3d_nonhom-pairs_nomax50.txt'\n",
    "shom = '../benchmark/Methods_benchmarking_pairs/supfam_hom-pairs_nomax50.txt'\n",
    "snon = '../benchmark/Methods_benchmarking_pairs/supfam_nonhom-pairs_nomax50.txt'\n",
    "\n",
    "phoml = read_benchmark_pairs(phom,1)\n",
    "pnonl = read_benchmark_pairs(pnon,0)\n",
    "ghoml = read_benchmark_pairs(ghom,1)\n",
    "gnonl = read_benchmark_pairs(gnon,0)\n",
    "shoml = read_benchmark_pairs(shom,1)\n",
    "snonl = read_benchmark_pairs(snon,0)\n",
    "\n",
    "nomax50seq = read_fasta('../benchmark/nomax.fa')\n",
    "\n",
    "if os.path.exists('nomax50emb.pkl') and os.path.exists('nomax50log.pkl'):\n",
    "    print('Loading...')\n",
    "    nomax50emb = load_pickle('nomax50emb.pkl')\n",
    "    nomax50log = load_pickle('nomax50log.pkl')\n",
    "else:\n",
    "    nomax50emb,nomax50log = embed_seq(nomax50seq)\n",
    "    print('Dumping...')\n",
    "    dump_pickle('nomax50emb.pkl',nomax50emb)\n",
    "    dump_pickle('nomax50log.pkl',nomax50log)"
   ]
  },
  {
   "cell_type": "code",
   "execution_count": 20,
   "id": "458ef612-be7a-4a17-ae48-62d1fdeb59ee",
   "metadata": {},
   "outputs": [],
   "source": [
    "fpr,tpr,aucScore,aucp = score('pfam',nomax50emb,10000)\n",
    "dump_pickle('pfam.no50.res.pkl',(fpr,tpr,aucScore,aucp))\n",
    "\n",
    "fpr,tpr,aucScore,aucp = score('supfam',nomax50emb,10000)\n",
    "dump_pickle('supfam.no50.res.pkl',(fpr,tpr,aucScore,aucp))\n",
    "\n",
    "fpr,tpr,aucScore,aucp = score('gene3d',nomax50emb,10000)\n",
    "dump_pickle('gene3d.no50.res.pkl',(fpr,tpr,aucScore,aucp))"
   ]
  }
 ],
 "metadata": {
  "kernelspec": {
   "display_name": "Python 3 (ipykernel)",
   "language": "python",
   "name": "python3"
  },
  "language_info": {
   "codemirror_mode": {
    "name": "ipython",
    "version": 3
   },
   "file_extension": ".py",
   "mimetype": "text/x-python",
   "name": "python",
   "nbconvert_exporter": "python",
   "pygments_lexer": "ipython3",
   "version": "3.8.11"
  }
 },
 "nbformat": 4,
 "nbformat_minor": 5
}
