{
 "cells": [
  {
   "cell_type": "markdown",
   "id": "e296c06f-5e0a-40fc-89b6-08e844804c68",
   "metadata": {},
   "source": [
    "### TODO\n",
    "\n",
    "* Randomly sample swissprot to create 100 sequence fasta file.\n",
    "* Use this fasta file on analyses\n",
    "\n",
    "### Results\n",
    "\n",
    "* Embedding 100:       13.147 s ± 60 ms per loop (mean ± std. dev. of 10 runs, 1 loop each) - 2core + GPU\n",
    "* Embedding 1000:      71.882 s ± 347.8 ms per loop (mean ± std. dev. of 10 runs, 1 loop each) - 2core + GPU\n",
    "* Searching 100x100:   519 ms ± 6.3 ms per loop (mean ± std. dev. of 10 runs, 1 loop each) - 1core\n",
    "    actual search takes only 25.58ms ± 4.96ms, while the rest are spent on startup overhead, reading databases from the disk and writing results to the disk\n",
    "* Searching 1000x1000:   976 ms ± 10.6ms\n",
    "* Searching Swissprot: 1.02 s ± 7.3 ms per loop (mean ± std. dev. of 10 runs, 1 loop each) - 1core\n",
    "* GPU: Nvidia A100 40GB\n",
    "* CPU: AMD EPYC 7543 - 1 core used"
   ]
  },
  {
   "cell_type": "code",
   "execution_count": 6,
   "id": "512481b0-549f-4155-8bec-4ec16e3d3f40",
   "metadata": {},
   "outputs": [],
   "source": [
    "from contactGroups import commp as cp\n",
    "from random import randint\n",
    "\n",
    "#load SwissProt fasta file\n",
    "spe = {}\n",
    "for f in cp.fasta_iter('../data/spe.fa'):\n",
    "    spe[f[0]] = f[1]\n",
    "\n",
    "#sample 1000 sequences\n",
    "sampled = []\n",
    "keys = list(spe.keys())\n",
    "for i in range(1000):\n",
    "    r = randint(0,len(keys))\n",
    "    r = keys[r]\n",
    "    sampled.append((r,spe[r]))\n",
    "\n",
    "with open('spe.sampled.1000.fa','w') as f:\n",
    "    for h,fasta in sampled:\n",
    "        f.write('>%s\\n%s\\n'%(h,fasta))"
   ]
  },
  {
   "cell_type": "code",
   "execution_count": 10,
   "id": "43c925af-77fc-4100-8ea7-7c0223f240d8",
   "metadata": {
    "scrolled": true,
    "tags": []
   },
   "outputs": [
    {
     "name": "stdout",
     "output_type": "stream",
     "text": [
      "===> multitime results\n",
      "1: -q prost makedb -n spe.sampled.100.fa spe.100.prdb\n",
      "            Mean                Std.Dev.    Min         Median      Max\n",
      "real        13.147+/-0.0600      0.060       13.035      13.144      13.241      \n",
      "user        12.649+/-0.1115      0.111       12.461      12.659      12.826      \n",
      "sys         1.533+/-0.0346      0.035       1.497       1.520       1.596       \n"
     ]
    }
   ],
   "source": [
    "!multitime -n10 -q prost makedb -n spe.sampled.100.fa spe.100.prdb"
   ]
  },
  {
   "cell_type": "code",
   "execution_count": 9,
   "id": "177cc789-6a6e-454f-bccc-3764c46aab69",
   "metadata": {
    "scrolled": true,
    "tags": []
   },
   "outputs": [
    {
     "name": "stdout",
     "output_type": "stream",
     "text": [
      "===> multitime results\n",
      "1: -q prost makedb -n spe.sampled.1000.fa spe.1000.prdb\n",
      "            Mean                Std.Dev.    Min         Median      Max\n",
      "real        71.882+/-0.3478      0.347       71.525      71.758      72.713      \n",
      "user        71.018+/-0.3010      0.300       70.648      70.905      71.522      \n",
      "sys         1.613+/-0.0350      0.035       1.542       1.618       1.669       \n"
     ]
    }
   ],
   "source": [
    "!multitime -n10 -q prost makedb -n spe.sampled.1000.fa spe.1000.prdb"
   ]
  },
  {
   "cell_type": "code",
   "execution_count": 18,
   "id": "4d844f77-7cce-4f30-986d-c93bca395788",
   "metadata": {},
   "outputs": [
    {
     "name": "stdout",
     "output_type": "stream",
     "text": [
      "===> multitime results\n",
      "1: prost search spe.100.prdb spe.100.prdb test.out\n",
      "            Mean                Std.Dev.    Min         Median      Max\n",
      "real        0.519+/-0.0063      0.006       0.506       0.520       0.530       \n",
      "user        0.422+/-0.0133      0.013       0.400       0.423       0.449       \n",
      "sys         0.210+/-0.0112      0.011       0.187       0.209       0.227       \n"
     ]
    }
   ],
   "source": [
    "!multitime -n10 prost search spe.100.prdb spe.100.prdb test.out"
   ]
  },
  {
   "cell_type": "code",
   "execution_count": 11,
   "id": "b143681f-4ef8-40d1-a889-c0155d06d2c7",
   "metadata": {},
   "outputs": [
    {
     "name": "stdout",
     "output_type": "stream",
     "text": [
      "===> multitime results\n",
      "1: prost search spe.1000.prdb spe.1000.prdb test.out\n",
      "            Mean                Std.Dev.    Min         Median      Max\n",
      "real        0.976+/-0.0106      0.011       0.960       0.974       0.995       \n",
      "user        0.867+/-0.0111      0.011       0.841       0.866       0.883       \n",
      "sys         0.209+/-0.0135      0.013       0.176       0.212       0.230       \n"
     ]
    }
   ],
   "source": [
    "!multitime -n10 prost search spe.1000.prdb spe.1000.prdb test.out"
   ]
  },
  {
   "cell_type": "code",
   "execution_count": 19,
   "id": "c93d93ad-6cf2-4a49-b186-2c9bee2d432b",
   "metadata": {},
   "outputs": [
    {
     "name": "stdout",
     "output_type": "stream",
     "text": [
      "===> multitime results\n",
      "1: prost searchsp hpo30.prdb test.out\n",
      "            Mean                Std.Dev.    Min         Median      Max\n",
      "real        1.017+/-0.0073      0.007       1.008       1.016       1.032       \n",
      "user        0.814+/-0.0170      0.017       0.781       0.812       0.840       \n",
      "sys         0.454+/-0.0192      0.019       0.412       0.456       0.480       \n"
     ]
    }
   ],
   "source": [
    "!multitime -n10 prost searchsp hpo30.prdb test.out"
   ]
  },
  {
   "cell_type": "code",
   "execution_count": 10,
   "id": "bc0436a3-7ece-4b5d-bb58-9749a2283501",
   "metadata": {},
   "outputs": [
    {
     "name": "stdout",
     "output_type": "stream",
     "text": [
      "Import 0.3434717655181885\n",
      "Read databases in: 0.5418472290039062\n",
      "PROST search time: 0.18520712852478027\n",
      "Write results in: 0.0036516189575195312\n",
      "\n",
      "real\t0m1.168s\n",
      "user\t0m0.807s\n",
      "sys\t0m0.676s\n"
     ]
    }
   ],
   "source": [
    "!time ./prostTimed searchsp hpo30.prdb test.out"
   ]
  },
  {
   "cell_type": "code",
   "execution_count": 16,
   "id": "3a186e17-2e3f-4099-8e06-0dfbb629fe16",
   "metadata": {},
   "outputs": [
    {
     "name": "stdout",
     "output_type": "stream",
     "text": [
      "Import 0.5359923839569092\n",
      "Click 0.0010104179382324219\n",
      "Read databases in: 0.0004634857177734375\n",
      "PROST search time: 0.024248361587524414\n",
      "Write results in: 0.0029523372650146484\n",
      "All 0.5670270919799805\n",
      "Import 0.46673035621643066\n",
      "Click 0.0005948543548583984\n",
      "Read databases in: 0.0003085136413574219\n",
      "PROST search time: 0.024837255477905273\n",
      "Write results in: 0.003104686737060547\n",
      "All 0.49733972549438477\n",
      "Import 0.31944727897644043\n",
      "Click 0.0005812644958496094\n",
      "Read databases in: 0.0003006458282470703\n",
      "PROST search time: 0.0238950252532959\n",
      "Write results in: 0.0035011768341064453\n",
      "All 0.3490102291107178\n",
      "Import 0.3151369094848633\n",
      "Click 0.0005614757537841797\n",
      "Read databases in: 0.00029921531677246094\n",
      "PROST search time: 0.023575544357299805\n",
      "Write results in: 0.003637075424194336\n",
      "All 0.3444786071777344\n",
      "Import 0.31830835342407227\n",
      "Click 0.000568389892578125\n",
      "Read databases in: 0.00028252601623535156\n",
      "PROST search time: 0.025324583053588867\n",
      "Write results in: 0.0032224655151367188\n",
      "All 0.34899067878723145\n",
      "Import 0.3253509998321533\n",
      "Click 0.0005564689636230469\n",
      "Read databases in: 0.0002827644348144531\n",
      "PROST search time: 0.023729324340820312\n",
      "Write results in: 0.0032804012298583984\n",
      "All 0.35445451736450195\n",
      "Import 0.31989026069641113\n",
      "Click 0.0005860328674316406\n",
      "Read databases in: 0.0002880096435546875\n",
      "PROST search time: 0.02361273765563965\n",
      "Write results in: 0.0030510425567626953\n",
      "All 0.3486971855163574\n",
      "Import 0.3171873092651367\n",
      "Click 0.0005638599395751953\n",
      "Read databases in: 0.0002868175506591797\n",
      "PROST search time: 0.03959488868713379\n",
      "Write results in: 0.005528450012207031\n",
      "All 0.3644218444824219\n",
      "Import 0.3186969757080078\n",
      "Click 0.0005745887756347656\n",
      "Read databases in: 0.00028586387634277344\n",
      "PROST search time: 0.0234224796295166\n",
      "Write results in: 0.0036094188690185547\n",
      "All 0.34783363342285156\n",
      "Import 0.3178231716156006\n",
      "Click 0.0005679130554199219\n",
      "Read databases in: 0.00029659271240234375\n",
      "PROST search time: 0.0235598087310791\n",
      "Write results in: 0.0035276412963867188\n",
      "All 0.34703993797302246\n",
      "===> multitime results\n",
      "1: ./prostTimed search spe.100.prdb spe.100.prdb test.out\n",
      "            Mean                Std.Dev.    Min         Median      Max\n",
      "real        0.444+/-0.0849      0.085       0.394       0.402       0.655       \n",
      "user        0.347+/-0.0077      0.008       0.330       0.348       0.360       \n",
      "sys         0.244+/-0.0221      0.022       0.229       0.233       0.305       \n"
     ]
    }
   ],
   "source": [
    "!multitime -n10 ./prostTimed search spe.100.prdb spe.100.prdb test.out"
   ]
  },
  {
   "cell_type": "code",
   "execution_count": 17,
   "id": "5b104fa4-4d53-41ed-8aef-df95174420ad",
   "metadata": {},
   "outputs": [
    {
     "name": "stdout",
     "output_type": "stream",
     "text": [
      "25.58ms +- 4.96ms\n"
     ]
    }
   ],
   "source": [
    "from statistics import stdev, mean\n",
    "prostTime=[0.024248361587524414,0.024837255477905273,0.0238950252532959,0.023575544357299805,0.025324583053588867,0.023729324340820312,0.02361273765563965,0.03959488868713379,0.0234224796295166,0.0235598087310791]\n",
    "print('%.2fms +- %.2fms'%(mean(prostTime)*1000,stdev(prostTime)*1000))"
   ]
  },
  {
   "cell_type": "code",
   "execution_count": 1,
   "id": "a67a025c-88ed-475a-90ff-842d143ec368",
   "metadata": {},
   "outputs": [
    {
     "name": "stdout",
     "output_type": "stream",
     "text": [
      "Wed Jan 18 11:55:06 2023       \n",
      "+-----------------------------------------------------------------------------+\n",
      "| NVIDIA-SMI 520.61.05    Driver Version: 520.61.05    CUDA Version: 11.8     |\n",
      "|-------------------------------+----------------------+----------------------+\n",
      "| GPU  Name        Persistence-M| Bus-Id        Disp.A | Volatile Uncorr. ECC |\n",
      "| Fan  Temp  Perf  Pwr:Usage/Cap|         Memory-Usage | GPU-Util  Compute M. |\n",
      "|                               |                      |               MIG M. |\n",
      "|===============================+======================+======================|\n",
      "|   0  NVIDIA A100-PCI...  Off  | 00000000:C4:00.0 Off |                    0 |\n",
      "| N/A   26C    P0    34W / 250W |      0MiB / 40960MiB |      0%      Default |\n",
      "|                               |                      |             Disabled |\n",
      "+-------------------------------+----------------------+----------------------+\n",
      "                                                                               \n",
      "+-----------------------------------------------------------------------------+\n",
      "| Processes:                                                                  |\n",
      "|  GPU   GI   CI        PID   Type   Process name                  GPU Memory |\n",
      "|        ID   ID                                                   Usage      |\n",
      "|=============================================================================|\n",
      "|  No running processes found                                                 |\n",
      "+-----------------------------------------------------------------------------+\n"
     ]
    }
   ],
   "source": [
    "!nvidia-smi"
   ]
  },
  {
   "cell_type": "code",
   "execution_count": 2,
   "id": "15660d6c-7ceb-4077-8d87-9d8bd27bb1da",
   "metadata": {
    "scrolled": true,
    "tags": []
   },
   "outputs": [
    {
     "name": "stdout",
     "output_type": "stream",
     "text": [
      "processor\t: 0\n",
      "vendor_id\t: AuthenticAMD\n",
      "cpu family\t: 25\n",
      "model\t\t: 1\n",
      "model name\t: AMD EPYC 7543 32-Core Processor\n",
      "stepping\t: 1\n",
      "microcode\t: 0xa00115d\n",
      "cpu MHz\t\t: 2800.000\n",
      "cache size\t: 512 KB\n",
      "physical id\t: 0\n",
      "siblings\t: 64\n",
      "core id\t\t: 0\n",
      "cpu cores\t: 32\n",
      "apicid\t\t: 0\n",
      "initial apicid\t: 0\n",
      "fpu\t\t: yes\n",
      "fpu_exception\t: yes\n",
      "cpuid level\t: 16\n",
      "wp\t\t: yes\n",
      "flags\t\t: fpu vme de pse tsc msr pae mce cx8 apic sep mtrr pge mca cmov pat pse36 clflush mmx fxsr sse sse2 ht syscall nx mmxext fxsr_opt pdpe1gb rdtscp lm constant_tsc rep_good nopl nonstop_tsc cpuid extd_apicid aperfmperf rapl pni pclmulqdq monitor ssse3 fma cx16 pcid sse4_1 sse4_2 x2apic movbe popcnt aes xsave avx f16c rdrand lahf_lm cmp_legacy svm extapic cr8_legacy abm sse4a misalignsse 3dnowprefetch osvw ibs skinit wdt tce topoext perfctr_core perfctr_nb bpext perfctr_llc mwaitx cpb cat_l3 cdp_l3 invpcid_single hw_pstate ssbd mba ibrs ibpb stibp vmmcall fsgsbase bmi1 avx2 smep bmi2 invpcid cqm rdt_a rdseed adx smap clflushopt clwb sha_ni xsaveopt xsavec xgetbv1 xsaves cqm_llc cqm_occup_llc cqm_mbm_total cqm_mbm_local clzero irperf xsaveerptr rdpru wbnoinvd amd_ppin arat npt lbrv svm_lock nrip_save tsc_scale vmcb_clean flushbyasid decodeassists pausefilter pfthreshold v_vmsave_vmload vgif v_spec_ctrl umip pku ospke vaes vpclmulqdq rdpid overflow_recov succor smca\n",
      "cat: write error: Broken pipe\n"
     ]
    }
   ],
   "source": [
    "!cat /proc/cpuinfo | head -n 20"
   ]
  },
  {
   "cell_type": "code",
   "execution_count": 3,
   "id": "9b645cc9-6084-4113-a2e1-ede58d2e277f",
   "metadata": {},
   "outputs": [
    {
     "name": "stdout",
     "output_type": "stream",
     "text": [
      "2\n"
     ]
    }
   ],
   "source": [
    "!nproc"
   ]
  }
 ],
 "metadata": {
  "kernelspec": {
   "display_name": "Python 3 (ipykernel)",
   "language": "python",
   "name": "python3"
  },
  "language_info": {
   "codemirror_mode": {
    "name": "ipython",
    "version": 3
   },
   "file_extension": ".py",
   "mimetype": "text/x-python",
   "name": "python",
   "nbconvert_exporter": "python",
   "pygments_lexer": "ipython3",
   "version": "3.8.11"
  }
 },
 "nbformat": 4,
 "nbformat_minor": 5
}
